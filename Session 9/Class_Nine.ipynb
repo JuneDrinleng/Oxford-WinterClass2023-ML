{
 "cells": [
  {
   "cell_type": "code",
   "execution_count": 62,
   "id": "b1f8342e",
   "metadata": {},
   "outputs": [],
   "source": [
    "import matplotlib.pyplot as plt\n",
    "from sklearn.datasets import make_blobs"
   ]
  },
  {
   "cell_type": "code",
   "execution_count": 63,
   "id": "8fb55d69",
   "metadata": {},
   "outputs": [],
   "source": [
    "# Step 1\n",
    "n_samples = 200 \n",
    "cluster_1_centre = [2,2] \n",
    "cluster_2_centre = [6,6] \n",
    "spread = 1\n",
    "# (200) - Number of points we are going to model.\n",
    "# [2,2] - Centre of the first cluster\n",
    "# [6,6] - Centre of cluster 2\n",
    "# (1)   - How spread-out the two clusters (blobs) are\n",
    "data, labels = make_blobs(n_samples=n_samples,\n",
    "                          centers=(cluster_1_centre, cluster_2_centre),\n",
    "                          cluster_std = spread, \n",
    "                          random_state=0)"
   ]
  },
  {
   "cell_type": "code",
   "execution_count": 64,
   "id": "4185c9df",
   "metadata": {},
   "outputs": [
    {
     "data": {
      "text/plain": [
       "array([[4.26975462, 0.54563433],\n",
       "       [6.27451636, 5.10908492],\n",
       "       [2.06651722, 2.3024719 ],\n",
       "       [0.77456448, 2.84436298],\n",
       "       [1.19659034, 1.31045022]])"
      ]
     },
     "execution_count": 64,
     "metadata": {},
     "output_type": "execute_result"
    }
   ],
   "source": [
    "data[0:5]"
   ]
  },
  {
   "cell_type": "code",
   "execution_count": 65,
   "id": "a9901dd4",
   "metadata": {},
   "outputs": [
    {
     "data": {
      "text/plain": [
       "array([0, 1, 0, 0, 0])"
      ]
     },
     "execution_count": 65,
     "metadata": {},
     "output_type": "execute_result"
    }
   ],
   "source": [
    "labels[0:5]"
   ]
  },
  {
   "cell_type": "code",
   "execution_count": 66,
   "id": "2330db06",
   "metadata": {},
   "outputs": [],
   "source": [
    "colours = ('green', 'red')"
   ]
  },
  {
   "cell_type": "code",
   "execution_count": 67,
   "id": "785d23b2",
   "metadata": {},
   "outputs": [
    {
     "data": {
      "image/png": "[encoded data removed]",
      "text/plain": [
       "<Figure size 640x480 with 1 Axes>"
      ]
     },
     "metadata": {},
     "output_type": "display_data"
    }
   ],
   "source": [
    "fig, ax = plt.subplots() \n",
    "for n_class in range(2):\n",
    "    plt.scatter(data[labels==n_class][:, 0], \n",
    "                data[labels==n_class][:, 1],\n",
    "                c=colours[n_class], \n",
    "                s=20, \n",
    "                label=str(n_class))"
   ]
  },
  {
   "cell_type": "code",
   "execution_count": 68,
   "id": "287ca3ba",
   "metadata": {},
   "outputs": [],
   "source": [
    "#Step 2\n",
    "theta_0 = -4 \n",
    "theta_1 = 2.3 \n",
    "theta_2 = 4.2\n",
    "# ( start value -4) this is the bias term for the perceptron\n",
    "# ( start value 2.3 )\n",
    "# ( start value 4.2 )"
   ]
  },
  {
   "cell_type": "code",
   "execution_count": 69,
   "id": "931f3b49",
   "metadata": {},
   "outputs": [],
   "source": [
    "net_input = theta_0 + theta_1 * data[:,0] + theta_2 * data[:,1] \n",
    "classification = list(map( lambda x : 1 if x>0 else 0, net_input))"
   ]
  },
  {
   "cell_type": "code",
   "execution_count": 70,
   "id": "51e147ca",
   "metadata": {},
   "outputs": [
    {
     "name": "stdout",
     "output_type": "stream",
     "text": [
      "[1, 1, 1, 1, 1, 1, 1, 1, 1, 1, 1, 1, 1, 1, 1, 1, 1, 1, 1, 1, 1, 1, 1, 1, 1, 1, 1, 1, 0, 1, 1, 1, 1, 1, 1, 1, 1, 1, 1, 1, 1, 1, 1, 1, 1, 1, 1, 1, 1, 1, 1, 1, 1, 1, 1, 1, 1, 1, 1, 1, 1, 1, 1, 1, 1, 1, 1, 1, 1, 1, 1, 1, 1, 1, 1, 1, 1, 1, 1, 1, 1, 1, 1, 1, 1, 1, 1, 1, 1, 1, 1, 1, 1, 1, 1, 1, 1, 1, 1, 1, 1, 1, 0, 1, 1, 1, 1, 1, 1, 1, 1, 1, 1, 1, 1, 1, 1, 1, 1, 1, 1, 1, 1, 1, 1, 1, 1, 0, 1, 1, 1, 1, 1, 1, 1, 1, 1, 1, 1, 1, 1, 1, 1, 1, 1, 1, 1, 1, 1, 1, 1, 1, 1, 1, 1, 1, 1, 1, 1, 1, 1, 1, 1, 1, 1, 1, 1, 1, 1, 1, 1, 1, 1, 1, 1, 1, 1, 1, 1, 1, 1, 1, 1, 1, 1, 1, 1, 1, 1, 1, 1, 1, 1, 1, 1, 1, 1, 1, 1, 1]\n"
     ]
    }
   ],
   "source": [
    "print(classification)"
   ]
  },
  {
   "cell_type": "code",
   "execution_count": 71,
   "id": "4d99ab8e",
   "metadata": {},
   "outputs": [
    {
     "data": {
      "text/plain": [
       "103"
      ]
     },
     "execution_count": 71,
     "metadata": {},
     "output_type": "execute_result"
    }
   ],
   "source": [
    "number_correct = sum(x == y for x, y in zip(labels, classification)) \n",
    "number_correct"
   ]
  },
  {
   "cell_type": "code",
   "execution_count": 72,
   "id": "733a313b",
   "metadata": {},
   "outputs": [
    {
     "data": {
      "text/plain": [
       "0.515"
      ]
     },
     "execution_count": 72,
     "metadata": {},
     "output_type": "execute_result"
    }
   ],
   "source": [
    "score = number_correct / n_samples \n",
    "score"
   ]
  },
  {
   "cell_type": "code",
   "execution_count": 73,
   "id": "1ed7ea55",
   "metadata": {},
   "outputs": [],
   "source": [
    "from sklearn.model_selection import train_test_split \n",
    "datasets = train_test_split(data,\n",
    "                            labels, test_size=0.2)\n",
    "train_data, test_data, train_labels, test_labels = datasets"
   ]
  },
  {
   "cell_type": "code",
   "execution_count": 74,
   "id": "ec72f0ea",
   "metadata": {},
   "outputs": [],
   "source": [
    "from sklearn.linear_model import Perceptron\n",
    "p = Perceptron(random_state=42, max_iter=500, tol=1) \n",
    "p.fit(train_data, train_labels);"
   ]
  },
  {
   "cell_type": "code",
   "execution_count": 75,
   "id": "5a891045",
   "metadata": {},
   "outputs": [
    {
     "name": "stdout",
     "output_type": "stream",
     "text": [
      "theta 1 =  3.92051451600073\n",
      "theta_2 =  3.7388283130462066\n"
     ]
    }
   ],
   "source": [
    "print('theta 1 = ', p.coef_[0][0]) \n",
    "print('theta_2 = ', p.coef_[0][1])"
   ]
  },
  {
   "cell_type": "code",
   "execution_count": 76,
   "id": "f5d56290",
   "metadata": {},
   "outputs": [
    {
     "name": "stdout",
     "output_type": "stream",
     "text": [
      "theta_0 =  -29.0\n"
     ]
    }
   ],
   "source": [
    "print( 'theta_0 = ', p.intercept_[0])"
   ]
  },
  {
   "cell_type": "code",
   "execution_count": 77,
   "id": "c46f8edf",
   "metadata": {},
   "outputs": [
    {
     "name": "stdout",
     "output_type": "stream",
     "text": [
      "score on train data:  1.0\n",
      "score on test data:  1.0\n"
     ]
    }
   ],
   "source": [
    "from sklearn.metrics import accuracy_score\n",
    "\n",
    "predictions_train = p.predict(train_data)\n",
    "predictions_test = p.predict(test_data)\n",
    "train_score = accuracy_score(predictions_train, train_labels) \n",
    "print(\"score on train data: \", train_score)\n",
    "test_score = accuracy_score(predictions_test, test_labels) \n",
    "print(\"score on test data: \", test_score)"
   ]
  },
  {
   "cell_type": "code",
   "execution_count": 78,
   "id": "65997ea3",
   "metadata": {},
   "outputs": [],
   "source": [
    "from tensorflow.keras.models import Sequential\n",
    "from tensorflow.keras.layers import Conv2D,MaxPooling2D,Dense,Flatten,Dropout \n",
    "from tensorflow.keras.optimizers import Adam\n",
    "import numpy as np\n",
    "import matplotlib.pyplot as plt\n",
    "import pandas as pd\n",
    "#将import keras改成 from tensorflow.keras.package"
   ]
  },
  {
   "cell_type": "code",
   "execution_count": 79,
   "id": "973b1f05",
   "metadata": {},
   "outputs": [],
   "source": [
    "fashion = keras.datasets.fashion_mnist \n",
    "(train_images,train_labels),(test_images,test_labels) = fashion.load_data()"
   ]
  },
  {
   "cell_type": "code",
   "execution_count": 80,
   "id": "8db04064",
   "metadata": {},
   "outputs": [
    {
     "name": "stdout",
     "output_type": "stream",
     "text": [
      "(60000, 28, 28)\n",
      "(10000, 28, 28)\n"
     ]
    }
   ],
   "source": [
    "print(train_images.shape) \n",
    "print(test_images.shape)"
   ]
  },
  {
   "cell_type": "code",
   "execution_count": 81,
   "id": "53bef2dc",
   "metadata": {},
   "outputs": [],
   "source": [
    "class_names = ['T-shirt/top', 'Trouser', 'Pullover', 'Dress','Coat', 'Sandal', 'Shirt', 'Sneaker', 'Bag', 'Ankle boot']"
   ]
  },
  {
   "cell_type": "code",
   "execution_count": 82,
   "id": "30afc0d5",
   "metadata": {},
   "outputs": [
    {
     "data": {
      "image/png": "[encoded data removed]",
      "text/plain": [
       "<Figure size 640x480 with 1 Axes>"
      ]
     },
     "metadata": {},
     "output_type": "display_data"
    }
   ],
   "source": [
    "image_number = 1200\n",
    "plt.figure()\n",
    "plt.imshow(train_images[image_number], cmap=plt.cm.binary) \n",
    "plt.xlabel(class_names[train_labels[image_number]]) \n",
    "plt.grid(False)\n",
    "plt.show()"
   ]
  },
  {
   "cell_type": "code",
   "execution_count": 83,
   "id": "49a08778",
   "metadata": {},
   "outputs": [],
   "source": [
    "train_images = keras.utils.normalize(train_images, axis=1) \n",
    "test_images = keras.utils.normalize(test_images, axis=1)"
   ]
  },
  {
   "cell_type": "code",
   "execution_count": 84,
   "id": "c523df62",
   "metadata": {},
   "outputs": [
    {
     "data": {
      "text/plain": [
       "array([0.        , 0.        , 0.        , 0.        , 0.        ,\n",
       "       0.00163724, 0.        , 0.        , 0.        , 0.        ,\n",
       "       0.04180052, 0.18134076, 0.10028745, 0.05368613, 0.04603788,\n",
       "       0.04237663, 0.08378428, 0.16247149, 0.13003419, 0.01660002,\n",
       "       0.        , 0.        , 0.        , 0.        , 0.        ,\n",
       "       0.        , 0.        , 0.        ])"
      ]
     },
     "execution_count": 84,
     "metadata": {},
     "output_type": "execute_result"
    }
   ],
   "source": [
    "train_images[1][0]"
   ]
  },
  {
   "cell_type": "code",
   "execution_count": 85,
   "id": "53fb4708",
   "metadata": {},
   "outputs": [],
   "source": [
    "model = keras.Sequential([ \n",
    "    keras.layers.Flatten(input_shape=(28, 28)), \n",
    "    keras.layers.Dense(128, activation='relu'), \n",
    "    keras.layers.Dense(10, activation='softmax')\n",
    "]);"
   ]
  },
  {
   "cell_type": "code",
   "execution_count": 86,
   "id": "7ff24ab8",
   "metadata": {},
   "outputs": [
    {
     "name": "stdout",
     "output_type": "stream",
     "text": [
      "Model: \"sequential_1\"\n",
      "_________________________________________________________________\n",
      " Layer (type)                Output Shape              Param #   \n",
      "=================================================================\n",
      " flatten_1 (Flatten)         (None, 784)               0         \n",
      "                                                                 \n",
      " dense_2 (Dense)             (None, 128)               100480    \n",
      "                                                                 \n",
      " dense_3 (Dense)             (None, 10)                1290      \n",
      "                                                                 \n",
      "=================================================================\n",
      "Total params: 101,770\n",
      "Trainable params: 101,770\n",
      "Non-trainable params: 0\n",
      "_________________________________________________________________\n"
     ]
    }
   ],
   "source": [
    "model.summary()"
   ]
  },
  {
   "cell_type": "code",
   "execution_count": 87,
   "id": "7a51ea94",
   "metadata": {},
   "outputs": [],
   "source": [
    "model.compile(optimizer='adam', loss='sparse_categorical_crossentropy',\n",
    "metrics=['accuracy'])"
   ]
  },
  {
   "cell_type": "code",
   "execution_count": 88,
   "id": "ad3afd8a",
   "metadata": {},
   "outputs": [
    {
     "name": "stdout",
     "output_type": "stream",
     "text": [
      "Epoch 1/10\n",
      "1875/1875 [==============================] - 2s 853us/step - loss: 0.5081 - accuracy: 0.8173\n",
      "Epoch 2/10\n",
      "1875/1875 [==============================] - 2s 839us/step - loss: 0.3728 - accuracy: 0.8649\n",
      "Epoch 3/10\n",
      "1875/1875 [==============================] - 2s 840us/step - loss: 0.3334 - accuracy: 0.8785\n",
      "Epoch 4/10\n",
      "1875/1875 [==============================] - 2s 837us/step - loss: 0.3078 - accuracy: 0.8869\n",
      "Epoch 5/10\n",
      "1875/1875 [==============================] - 2s 838us/step - loss: 0.2895 - accuracy: 0.8927\n",
      "Epoch 6/10\n",
      "1875/1875 [==============================] - 2s 834us/step - loss: 0.2754 - accuracy: 0.8966\n",
      "Epoch 7/10\n",
      "1875/1875 [==============================] - 2s 846us/step - loss: 0.2614 - accuracy: 0.9014\n",
      "Epoch 8/10\n",
      "1875/1875 [==============================] - 2s 836us/step - loss: 0.2493 - accuracy: 0.9061\n",
      "Epoch 9/10\n",
      "1875/1875 [==============================] - 2s 835us/step - loss: 0.2407 - accuracy: 0.9097\n",
      "Epoch 10/10\n",
      "1875/1875 [==============================] - 2s 929us/step - loss: 0.2298 - accuracy: 0.9130\n"
     ]
    },
    {
     "data": {
      "text/plain": [
       "<keras.callbacks.History at 0x7f8fc4221310>"
      ]
     },
     "execution_count": 88,
     "metadata": {},
     "output_type": "execute_result"
    }
   ],
   "source": [
    "model.fit(train_images, train_labels, epochs=10)"
   ]
  },
  {
   "cell_type": "code",
   "execution_count": 89,
   "id": "5a61db40",
   "metadata": {},
   "outputs": [
    {
     "name": "stdout",
     "output_type": "stream",
     "text": [
      "313/313 [==============================] - 0s 603us/step - loss: 0.3254 - accuracy: 0.8810\n",
      "\n",
      "Test accuracy: 0.8809999823570251\n"
     ]
    }
   ],
   "source": [
    "test_loss, test_acc = model.evaluate(test_images, test_labels) \n",
    "print('\\nTest accuracy:', test_acc)"
   ]
  },
  {
   "cell_type": "code",
   "execution_count": 90,
   "id": "73168335",
   "metadata": {},
   "outputs": [
    {
     "name": "stdout",
     "output_type": "stream",
     "text": [
      "Label =  0  :  T-shirt/top\n"
     ]
    }
   ],
   "source": [
    "test_item = 120\n",
    "label = test_labels[test_item]\n",
    "print('Label = ', label, ' : ', class_names[label])"
   ]
  },
  {
   "cell_type": "code",
   "execution_count": 91,
   "id": "f81cd00b",
   "metadata": {},
   "outputs": [
    {
     "data": {
      "text/plain": [
       "Text(0.5, 0, 'T-shirt/top')"
      ]
     },
     "execution_count": 91,
     "metadata": {},
     "output_type": "execute_result"
    },
    {
     "data": {
      "image/png": "[encoded data removed]",
      "text/plain": [
       "<Figure size 640x480 with 1 Axes>"
      ]
     },
     "metadata": {},
     "output_type": "display_data"
    }
   ],
   "source": [
    "test_image = test_images[test_item] \n",
    "plt.imshow(test_image, cmap=plt.cm.binary) \n",
    "plt.xlabel(class_names[test_labels[test_item]])"
   ]
  },
  {
   "cell_type": "code",
   "execution_count": 92,
   "id": "550ef979",
   "metadata": {},
   "outputs": [
    {
     "name": "stdout",
     "output_type": "stream",
     "text": [
      "313/313 [==============================] - 0s 516us/step\n"
     ]
    }
   ],
   "source": [
    "predictions = model.predict(test_images)"
   ]
  },
  {
   "cell_type": "code",
   "execution_count": 93,
   "id": "bed1b3d1",
   "metadata": {},
   "outputs": [
    {
     "data": {
      "text/plain": [
       "array([9.9808830e-01, 1.1935465e-11, 1.8436868e-04, 4.4490218e-05,\n",
       "       2.5569105e-07, 3.8199855e-06, 1.6786936e-03, 7.5431078e-13,\n",
       "       1.3464158e-07, 1.4762936e-09], dtype=float32)"
      ]
     },
     "execution_count": 93,
     "metadata": {},
     "output_type": "execute_result"
    }
   ],
   "source": [
    "predictions[test_item]"
   ]
  },
  {
   "cell_type": "code",
   "execution_count": 94,
   "id": "dd1b1e1e",
   "metadata": {},
   "outputs": [
    {
     "data": {
      "image/png": "[encoded data removed]",
      "text/plain": [
       "<Figure size 640x480 with 1 Axes>"
      ]
     },
     "metadata": {},
     "output_type": "display_data"
    }
   ],
   "source": [
    "df = pd.DataFrame(predictions[test_item]) \n",
    "ax = df.plot.bar()"
   ]
  },
  {
   "cell_type": "code",
   "execution_count": 95,
   "id": "abeb1892",
   "metadata": {},
   "outputs": [
    {
     "name": "stdout",
     "output_type": "stream",
     "text": [
      "Predicted label =  0  :  T-shirt/top\n"
     ]
    }
   ],
   "source": [
    "predicted_label = np.argmax(predictions[test_item])\n",
    "print('Predicted label = ', predicted_label, ' : ', class_names[predicted_label])"
   ]
  }
 ],
 "metadata": {
  "kernelspec": {
   "display_name": "Python 3 (ipykernel)",
   "language": "python",
   "name": "python3"
  },
  "language_info": {
   "codemirror_mode": {
    "name": "ipython",
    "version": 3
   },
   "file_extension": ".py",
   "mimetype": "text/x-python",
   "name": "python",
   "nbconvert_exporter": "python",
   "pygments_lexer": "ipython3",
   "version": "3.9.13"
  }
 },
 "nbformat": 4,
 "nbformat_minor": 5
}
